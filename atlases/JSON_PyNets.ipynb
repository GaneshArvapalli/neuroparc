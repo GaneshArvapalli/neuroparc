{
 "cells": [
  {
   "cell_type": "code",
   "execution_count": 59,
   "metadata": {},
   "outputs": [],
   "source": [
    "import os\n",
    "from os.path import isfile, join\n",
    "from pathlib import Path\n",
    "import numpy as np\n",
    "from nibabel.testing import data_path\n",
    "import nibabel as nib\n",
    "import json\n",
    "import pdb\n",
    "import glob\n",
    "from nilearn import plotting as nip\n",
    "from nilearn import image\n",
    "import pandas as pd"
   ]
  },
  {
   "cell_type": "code",
   "execution_count": 103,
   "metadata": {},
   "outputs": [
    {
     "data": {
      "text/plain": [
       "['AALTzourioMazoyer2002',\n",
       " 'AICHAreorderedJoliot2015',\n",
       " 'AAL2zourioMazoyer2002',\n",
       " 'AICHAJoliot2015',\n",
       " 'MICCAI2012MultiAtlasLabelingWorkshopandChallengeNeuromorphometrics']"
      ]
     },
     "execution_count": 103,
     "metadata": {},
     "output_type": "execute_result"
    }
   ],
   "source": [
    "\n",
    "mypath = str(Path().absolute())\n",
    "labelpath = join(mypath,'PyNets/Labels')\n",
    "label_files = [f for f in os.listdir(labelpath) if os.path.isfile(join(labelpath,f))]\n",
    "files = [f.split('.')[0] for f in label_files]\n",
    "files = [i for i in files if not i.startswith(\"__\")]\n",
    "files = [i for i in files if not i.startswith(\"aal_c\")]\n",
    "files = [i for i in files if not i.startswith(\"Random\")]\n",
    "files = [i for i in files if not i.startswith(\"Voxel\")]\n",
    "files = files[6:len(files)-1]\n",
    "files"
   ]
  },
  {
   "cell_type": "code",
   "execution_count": 104,
   "metadata": {},
   "outputs": [
    {
     "name": "stdout",
     "output_type": "stream",
     "text": [
      "AALTzourioMazoyer2002\n",
      "<class 'dict'>\n",
      "<class 'dict'>\n",
      "AICHAreorderedJoliot2015\n",
      "<class 'dict'>\n",
      "<class 'dict'>\n",
      "AAL2zourioMazoyer2002\n",
      "<class 'dict'>\n",
      "<class 'dict'>\n",
      "AICHAJoliot2015\n",
      "<class 'dict'>\n",
      "<class 'dict'>\n",
      "MICCAI2012MultiAtlasLabelingWorkshopandChallengeNeuromorphometrics\n",
      "<class 'dict'>\n",
      "<class 'dict'>\n"
     ]
    }
   ],
   "source": [
    "for f in files:\n",
    "    print(f)\n",
    "    try:\n",
    "        filename = str(f)+'.txt'\n",
    "        filename = join(labelpath,filename)\n",
    "        df = pd.read_csv(filename, sep=' ', header=None, usecols=[0,1])\n",
    "        df.columns = [\"Region\", \"Label\"]\n",
    "    except ValueError:\n",
    "        filename = str(f)+'.txt'\n",
    "        filename = join(labelpath,filename)\n",
    "        df = pd.read_csv(filename, sep='\\t', header=None, usecols=[0,1])\n",
    "        df.columns = [\"Region\", \"Label\"]\n",
    "    outname = f+'.json'\n",
    "    jsonpath = join(mypath,'PyNets/JSONs')\n",
    "    outname = join(jsonpath,outname)\n",
    "    createJSON(df,outname)\n",
    "    \n",
    "    niftipath = join(mypath,'PyNets/atlases/')\n",
    "    niftiname = f+'.nii.gz'\n",
    "    niftiname = join(niftipath,niftiname)\n",
    "    Size_JSON(outname, niftiname, outname)\n",
    "    "
   ]
  },
  {
   "cell_type": "code",
   "execution_count": 94,
   "metadata": {},
   "outputs": [],
   "source": [
    "def createJSON(df, outname):\n",
    "    data = {}\n",
    "    data['0'] = {}\n",
    "    data['0']['label'] = 'empty'\n",
    "    print(type(data))\n",
    "    for row in range(1,len(df)+1):\n",
    "        data[str(row)]={}\n",
    "        data[str(row)]['label'] = df['Label'][row-1]\n",
    "    with open(outname, 'w') as outfile:  \n",
    "        json.dump(data, outfile, indent=4, sort_keys=True)"
   ]
  },
  {
   "cell_type": "code",
   "execution_count": 95,
   "metadata": {},
   "outputs": [],
   "source": [
    "def Size_JSON(json_file, nifti_file, outname):    \n",
    "    img = nib.load(nifti_file)\n",
    "    img_data = img.get_fdata()\n",
    "    img_flat = img_data.flatten()\n",
    "    img_flat.tolist()\n",
    "    img_flat = [int(i) for i in img_flat]\n",
    "    values = np.unique(img_flat)\n",
    "    counts = np.array(range(1, len(img_flat)+1))\n",
    "    counts = [int(i) for i in counts]\n",
    "    img_flatten = list(zip(img_flat, counts))\n",
    "    img_flatten = sorted(img_flatten, key = lambda l:l[0])\n",
    "\n",
    "    img_cell = [[] for i in range(len(values))]\n",
    "    start = 0\n",
    "    for i in range(0,len(values)):\n",
    "        img_list = [x[0] for x in img_flatten]\n",
    "        end = max(loc for loc, val in enumerate(img_list) if val == values[i])\n",
    "        for j in range(start,end):\n",
    "            img_cell[i].append(img_flatten[j][1])  \n",
    "        start = end+1\n",
    "    \n",
    "    with open(json_file) as f:\n",
    "        data = json.load(f)\n",
    "        print(type(data))\n",
    "    \n",
    "    for i in range(0,len(values)):\n",
    "        data[str(i)][\"size\"] = str(len(img_cell[i]))\n",
    "        #val = str(len(img_cell[i]))\n",
    "        #print(val)\n",
    "        #data[str(i)].append({\n",
    "        #    'size': str(len(img_cell[i]))\n",
    "        #})\n",
    "    \n",
    "    with open(outname, 'w') as f:\n",
    "        json.dump(data, f, indent=4, sort_keys=True)"
   ]
  }
 ],
 "metadata": {
  "kernelspec": {
   "display_name": "Python 3",
   "language": "python",
   "name": "python3"
  },
  "language_info": {
   "codemirror_mode": {
    "name": "ipython",
    "version": 3
   },
   "file_extension": ".py",
   "mimetype": "text/x-python",
   "name": "python",
   "nbconvert_exporter": "python",
   "pygments_lexer": "ipython3",
   "version": "3.5.2"
  }
 },
 "nbformat": 4,
 "nbformat_minor": 2
}
