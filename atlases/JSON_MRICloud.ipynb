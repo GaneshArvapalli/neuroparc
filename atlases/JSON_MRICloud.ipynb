{
 "cells": [
  {
   "cell_type": "code",
   "execution_count": 1,
   "metadata": {},
   "outputs": [],
   "source": [
    "import os\n",
    "from os.path import isfile, join\n",
    "from pathlib import Path\n",
    "import numpy as np\n",
    "from nibabel.testing import data_path\n",
    "import nibabel as nib\n",
    "import json\n",
    "import pdb\n",
    "import glob\n",
    "from nilearn import plotting as nip\n",
    "from nilearn import image\n",
    "import pandas as pd"
   ]
  },
  {
   "cell_type": "code",
   "execution_count": 2,
   "metadata": {},
   "outputs": [
    {
     "data": {
      "text/plain": [
       "['/home/pmyers16/Desktop/neuroparc/atlases/MRI_Cloud_Atlases/Pediatric4-8-2f574ca/Ped4-8_01/Ped4-8_01_FullLabels.nii',\n",
       " '/home/pmyers16/Desktop/neuroparc/atlases/MRI_Cloud_Atlases/Elderly56/Eld56+_01/Eld56+_01_FullLabels.nii',\n",
       " '/home/pmyers16/Desktop/neuroparc/atlases/MRI_Cloud_Atlases/YoungAdult16-26/YAd16-26_01/YAd16-26_01_FullLabels.nii',\n",
       " '/home/pmyers16/Desktop/neuroparc/atlases/MRI_Cloud_Atlases/Adult27-55-e5450fc/Adt27-55_01/Adt27-55_01_FullLabels.nii']"
      ]
     },
     "execution_count": 2,
     "metadata": {},
     "output_type": "execute_result"
    }
   ],
   "source": [
    "mypath = str(Path().absolute())\n",
    "labelpath = join(mypath,'MRI_Cloud_Atlases')\n",
    "dirs = [x[0] for x in os.walk(labelpath)]\n",
    "dirs = [i for i in dirs if 'git' not in i]\n",
    "dirs = [i for i in dirs if 'ipynb' not in i]\n",
    "dirs = [i for i in dirs if '01' in i]\n",
    "files = []\n",
    "for d in dirs:\n",
    "    patient = d.split('/')\n",
    "    patient = patient[len(patient)-1]\n",
    "    file = patient+'_FullLabels.nii'\n",
    "    patFile = os.path.join(d,file)\n",
    "    files.append(patFile)\n",
    "files"
   ]
  },
  {
   "cell_type": "code",
   "execution_count": 3,
   "metadata": {},
   "outputs": [],
   "source": [
    "def main():\n",
    "    for f in files:\n",
    "        print(f)\n",
    "        outfile = f.replace('.nii','.json')\n",
    "        parcel_im = nib.load(f)\n",
    "        #get_centers(parcel_im,outfile)\n",
    "        parcel_centers = get_centers(parcel_im,outfile)\n",
    "        \n",
    "        with open(outfile) as js:\n",
    "            js_contents = json.load(js)\n",
    "            for (k, v) in js_contents.items():\n",
    "                try:\n",
    "                    js_contents[k][\"center\"] = parcel_centers[int(k)]\n",
    "                except KeyError:\n",
    "                    js_contents[k][\"center\"] = None\n",
    "                    with open(outfile, 'w') as jso:\n",
    "                        json.dump(js_contents, jso, indent=4)\n",
    "    return parcel_centers"
   ]
  },
  {
   "cell_type": "code",
   "execution_count": 5,
   "metadata": {},
   "outputs": [
    {
     "name": "stdout",
     "output_type": "stream",
     "text": [
      "/home/pmyers16/Desktop/neuroparc/atlases/MRI_Cloud_Atlases/Pediatric4-8-2f574ca/Ped4-8_01/Ped4-8_01_FullLabels.nii\n",
      "here\n"
     ]
    },
    {
     "ename": "MemoryError",
     "evalue": "",
     "output_type": "error",
     "traceback": [
      "\u001b[0;31m---------------------------------------------------------------------------\u001b[0m",
      "\u001b[0;31mMemoryError\u001b[0m                               Traceback (most recent call last)",
      "\u001b[0;32m<ipython-input-5-263240bbee7e>\u001b[0m in \u001b[0;36m<module>\u001b[0;34m\u001b[0m\n\u001b[0;32m----> 1\u001b[0;31m \u001b[0mmain\u001b[0m\u001b[0;34m(\u001b[0m\u001b[0;34m)\u001b[0m\u001b[0;34m\u001b[0m\u001b[0m\n\u001b[0m",
      "\u001b[0;32m<ipython-input-3-1febb036e7a6>\u001b[0m in \u001b[0;36mmain\u001b[0;34m()\u001b[0m\n\u001b[1;32m      5\u001b[0m         \u001b[0mparcel_im\u001b[0m \u001b[0;34m=\u001b[0m \u001b[0mnib\u001b[0m\u001b[0;34m.\u001b[0m\u001b[0mload\u001b[0m\u001b[0;34m(\u001b[0m\u001b[0mf\u001b[0m\u001b[0;34m)\u001b[0m\u001b[0;34m\u001b[0m\u001b[0m\n\u001b[1;32m      6\u001b[0m         \u001b[0;31m#get_centers(parcel_im,outfile)\u001b[0m\u001b[0;34m\u001b[0m\u001b[0;34m\u001b[0m\u001b[0m\n\u001b[0;32m----> 7\u001b[0;31m         \u001b[0mparcel_centers\u001b[0m \u001b[0;34m=\u001b[0m \u001b[0mget_centers\u001b[0m\u001b[0;34m(\u001b[0m\u001b[0mparcel_im\u001b[0m\u001b[0;34m,\u001b[0m\u001b[0moutfile\u001b[0m\u001b[0;34m)\u001b[0m\u001b[0;34m\u001b[0m\u001b[0m\n\u001b[0m\u001b[1;32m      8\u001b[0m \u001b[0;34m\u001b[0m\u001b[0m\n\u001b[1;32m      9\u001b[0m         \u001b[0;32mwith\u001b[0m \u001b[0mopen\u001b[0m\u001b[0;34m(\u001b[0m\u001b[0moutfile\u001b[0m\u001b[0;34m)\u001b[0m \u001b[0;32mas\u001b[0m \u001b[0mjs\u001b[0m\u001b[0;34m:\u001b[0m\u001b[0;34m\u001b[0m\u001b[0m\n",
      "\u001b[0;32m<ipython-input-4-110b09487d5e>\u001b[0m in \u001b[0;36mget_centers\u001b[0;34m(brain, outfile)\u001b[0m\n\u001b[1;32m     10\u001b[0m     \u001b[0mlabs\u001b[0m \u001b[0;34m=\u001b[0m \u001b[0mlabs\u001b[0m\u001b[0;34m[\u001b[0m\u001b[0mlabs\u001b[0m \u001b[0;34m!=\u001b[0m \u001b[0;36m0\u001b[0m\u001b[0;34m]\u001b[0m\u001b[0;34m\u001b[0m\u001b[0m\n\u001b[1;32m     11\u001b[0m     \u001b[0mprint\u001b[0m\u001b[0;34m(\u001b[0m\u001b[0;34m'here'\u001b[0m\u001b[0;34m)\u001b[0m\u001b[0;34m\u001b[0m\u001b[0m\n\u001b[0;32m---> 12\u001b[0;31m     \u001b[0mfd_dat\u001b[0m \u001b[0;34m=\u001b[0m \u001b[0mnp\u001b[0m\u001b[0;34m.\u001b[0m\u001b[0mstack\u001b[0m\u001b[0;34m(\u001b[0m\u001b[0;34m[\u001b[0m\u001b[0mnp\u001b[0m\u001b[0;34m.\u001b[0m\u001b[0masarray\u001b[0m\u001b[0;34m(\u001b[0m\u001b[0mdat\u001b[0m \u001b[0;34m==\u001b[0m \u001b[0mlab\u001b[0m\u001b[0;34m)\u001b[0m\u001b[0;34m.\u001b[0m\u001b[0mastype\u001b[0m\u001b[0;34m(\u001b[0m\u001b[0;34m'float64'\u001b[0m\u001b[0;34m)\u001b[0m \u001b[0;32mfor\u001b[0m \u001b[0mlab\u001b[0m \u001b[0;32min\u001b[0m \u001b[0mlabs\u001b[0m\u001b[0;34m]\u001b[0m\u001b[0;34m,\u001b[0m \u001b[0maxis\u001b[0m\u001b[0;34m=\u001b[0m\u001b[0;36m3\u001b[0m\u001b[0;34m)\u001b[0m\u001b[0;34m\u001b[0m\u001b[0m\n\u001b[0m\u001b[1;32m     13\u001b[0m     \u001b[0mprint\u001b[0m\u001b[0;34m(\u001b[0m\u001b[0;34m'here2'\u001b[0m\u001b[0;34m)\u001b[0m\u001b[0;34m\u001b[0m\u001b[0m\n\u001b[1;32m     14\u001b[0m     \u001b[0mparcels\u001b[0m \u001b[0;34m=\u001b[0m \u001b[0mnib\u001b[0m\u001b[0;34m.\u001b[0m\u001b[0mNifti1Image\u001b[0m\u001b[0;34m(\u001b[0m\u001b[0mdataobj\u001b[0m\u001b[0;34m=\u001b[0m\u001b[0mfd_dat\u001b[0m\u001b[0;34m,\u001b[0m \u001b[0mheader\u001b[0m\u001b[0;34m=\u001b[0m\u001b[0mbrain\u001b[0m\u001b[0;34m.\u001b[0m\u001b[0mheader\u001b[0m\u001b[0;34m,\u001b[0m \u001b[0maffine\u001b[0m\u001b[0;34m=\u001b[0m\u001b[0mbrain\u001b[0m\u001b[0;34m.\u001b[0m\u001b[0maffine\u001b[0m\u001b[0;34m)\u001b[0m\u001b[0;34m\u001b[0m\u001b[0m\n",
      "\u001b[0;32m~/.local/lib/python3.5/site-packages/numpy/core/shape_base.py\u001b[0m in \u001b[0;36mstack\u001b[0;34m(arrays, axis, out)\u001b[0m\n\u001b[1;32m    421\u001b[0m     \u001b[0msl\u001b[0m \u001b[0;34m=\u001b[0m \u001b[0;34m(\u001b[0m\u001b[0mslice\u001b[0m\u001b[0;34m(\u001b[0m\u001b[0;32mNone\u001b[0m\u001b[0;34m)\u001b[0m\u001b[0;34m,\u001b[0m\u001b[0;34m)\u001b[0m \u001b[0;34m*\u001b[0m \u001b[0maxis\u001b[0m \u001b[0;34m+\u001b[0m \u001b[0;34m(\u001b[0m\u001b[0m_nx\u001b[0m\u001b[0;34m.\u001b[0m\u001b[0mnewaxis\u001b[0m\u001b[0;34m,\u001b[0m\u001b[0;34m)\u001b[0m\u001b[0;34m\u001b[0m\u001b[0m\n\u001b[1;32m    422\u001b[0m     \u001b[0mexpanded_arrays\u001b[0m \u001b[0;34m=\u001b[0m \u001b[0;34m[\u001b[0m\u001b[0marr\u001b[0m\u001b[0;34m[\u001b[0m\u001b[0msl\u001b[0m\u001b[0;34m]\u001b[0m \u001b[0;32mfor\u001b[0m \u001b[0marr\u001b[0m \u001b[0;32min\u001b[0m \u001b[0marrays\u001b[0m\u001b[0;34m]\u001b[0m\u001b[0;34m\u001b[0m\u001b[0m\n\u001b[0;32m--> 423\u001b[0;31m     \u001b[0;32mreturn\u001b[0m \u001b[0m_nx\u001b[0m\u001b[0;34m.\u001b[0m\u001b[0mconcatenate\u001b[0m\u001b[0;34m(\u001b[0m\u001b[0mexpanded_arrays\u001b[0m\u001b[0;34m,\u001b[0m \u001b[0maxis\u001b[0m\u001b[0;34m=\u001b[0m\u001b[0maxis\u001b[0m\u001b[0;34m,\u001b[0m \u001b[0mout\u001b[0m\u001b[0;34m=\u001b[0m\u001b[0mout\u001b[0m\u001b[0;34m)\u001b[0m\u001b[0;34m\u001b[0m\u001b[0m\n\u001b[0m\u001b[1;32m    424\u001b[0m \u001b[0;34m\u001b[0m\u001b[0m\n\u001b[1;32m    425\u001b[0m \u001b[0;34m\u001b[0m\u001b[0m\n",
      "\u001b[0;31mMemoryError\u001b[0m: "
     ]
    }
   ],
   "source": [
    "main()"
   ]
  },
  {
   "cell_type": "code",
   "execution_count": 4,
   "metadata": {},
   "outputs": [],
   "source": [
    "def get_centers(brain, outfile):\n",
    "    \"\"\"\n",
    "    Get coordinate centers given a nifti image loaded with nibabel\n",
    "    \n",
    "    Returns a dictionary of label: coordinate as an [x, y, z] array\n",
    "    \"\"\"\n",
    "    dat = brain.get_data()\n",
    "    dat = np.squeeze(dat)\n",
    "    labs = np.unique(dat)\n",
    "    labs = labs[labs != 0]\n",
    "    print('here')\n",
    "    fd_dat = np.stack([np.asarray(dat == lab).astype('float64') for lab in labs], axis=3)\n",
    "    print('here2')\n",
    "    parcels = nib.Nifti1Image(dataobj=fd_dat, header=brain.header, affine=brain.affine)\n",
    "    regions_imgs = image.iter_img(parcels)\n",
    "    # compute the centers of mass for each ROI\n",
    "    coords_connectome = [nip.find_xyz_cut_coords(img) for img in regions_imgs]\n",
    "\n",
    "    \n",
    "    return dict(zip(labs, coords_connectome))"
   ]
  },
  {
   "cell_type": "code",
   "execution_count": 16,
   "metadata": {},
   "outputs": [
    {
     "data": {
      "text/plain": [
       "17120.0"
      ]
     },
     "execution_count": 16,
     "metadata": {},
     "output_type": "execute_result"
    }
   ],
   "source": [
    "f = files[0]\n",
    "parcel_im = nib.load(f)\n",
    "dat = parcel_im.get_data()\n",
    "dat = np.squeeze(dat)\n",
    "labs = np.unique(dat)\n",
    "labs = labs[labs != 0]\n",
    "ds = np.asarray(dat == labs[0]).astype('float64')\n",
    "ds = ds.flatten()\n",
    "sum(ds)"
   ]
  },
  {
   "cell_type": "code",
   "execution_count": 19,
   "metadata": {},
   "outputs": [],
   "source": [
    "def get_sizes(brain, outfile):\n",
    "    \"\"\"\n",
    "    Get coordinate centers given a nifti image loaded with nibabel\n",
    "    \n",
    "    Returns a dictionary of label: coordinate as an [x, y, z] array\n",
    "    \"\"\"\n",
    "    dat = brain.get_data()\n",
    "    dat = np.squeeze(dat)\n",
    "    labs = np.unique(dat)\n",
    "    labs = labs[labs != 0]\n",
    "    sizes = []\n",
    "    for lab in range(0,len(labs)):\n",
    "        ds = np.asarray(dat == labs[lab]).astype('float64')\n",
    "        ds = ds.flatten()\n",
    "        sizes.append(sum(ds))\n",
    "\n",
    "    \n",
    "    return sizes"
   ]
  },
  {
   "cell_type": "code",
   "execution_count": 23,
   "metadata": {},
   "outputs": [
    {
     "name": "stdout",
     "output_type": "stream",
     "text": [
      "/home/pmyers16/Desktop/neuroparc/atlases/MRI_Cloud_Atlases/Pediatric4-8-2f574ca/Ped4-8_01/Ped4-8_01_FullLabels.nii\n",
      "<class 'dict'>\n",
      "<class 'dict'>\n",
      "/home/pmyers16/Desktop/neuroparc/atlases/MRI_Cloud_Atlases/Elderly56/Eld56+_01/Eld56+_01_FullLabels.nii\n",
      "<class 'dict'>\n",
      "<class 'dict'>\n",
      "/home/pmyers16/Desktop/neuroparc/atlases/MRI_Cloud_Atlases/YoungAdult16-26/YAd16-26_01/YAd16-26_01_FullLabels.nii\n",
      "<class 'dict'>\n",
      "<class 'dict'>\n",
      "/home/pmyers16/Desktop/neuroparc/atlases/MRI_Cloud_Atlases/Adult27-55-e5450fc/Adt27-55_01/Adt27-55_01_FullLabels.nii\n",
      "<class 'dict'>\n",
      "<class 'dict'>\n"
     ]
    }
   ],
   "source": [
    "for f in files:\n",
    "        print(f)\n",
    "        outfile = f.replace('.nii','.json')\n",
    "        parcel_im = nib.load(f)\n",
    "        #get_centers(parcel_im,outfile)\n",
    "        sizes = get_sizes(parcel_im,outfile)\n",
    "        createJSON(sizes,outfile)\n",
    "        with open(outfile) as f:\n",
    "            data = json.load(f)\n",
    "            print(type(data))\n",
    "    \n",
    "        for i in range(0,len(sizes)):\n",
    "            data[str(i+1)][\"size\"] = str(sizes[i])\n",
    "        \n",
    "        with open(outfile, 'w') as f:\n",
    "            json.dump(data, f, indent=4, sort_keys=True)\n",
    "        "
   ]
  },
  {
   "cell_type": "code",
   "execution_count": 21,
   "metadata": {},
   "outputs": [],
   "source": [
    "def createJSON(sizes, outname):\n",
    "    data = {}\n",
    "    data['0'] = {}\n",
    "    data['0']['label'] = 'empty'\n",
    "    print(type(data))\n",
    "    for row in range(0,len(sizes)):\n",
    "        data[str(row+1)]={}\n",
    "    with open(outname, 'w') as outfile:  \n",
    "        json.dump(data, outfile, indent=4, sort_keys=True)"
   ]
  }
 ],
 "metadata": {
  "kernelspec": {
   "display_name": "Python 3",
   "language": "python",
   "name": "python3"
  },
  "language_info": {
   "codemirror_mode": {
    "name": "ipython",
    "version": 3
   },
   "file_extension": ".py",
   "mimetype": "text/x-python",
   "name": "python",
   "nbconvert_exporter": "python",
   "pygments_lexer": "ipython3",
   "version": "3.5.2"
  }
 },
 "nbformat": 4,
 "nbformat_minor": 2
}
