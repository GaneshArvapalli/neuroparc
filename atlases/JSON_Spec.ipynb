{
 "cells": [
  {
   "cell_type": "code",
   "execution_count": 1,
   "metadata": {},
   "outputs": [],
   "source": [
    "import os\n",
    "from os.path import isfile, join\n",
    "from pathlib import Path\n",
    "import numpy as np\n",
    "from nibabel.testing import data_path\n",
    "import nibabel as nib\n",
    "import json\n",
    "import pdb\n",
    "import glob\n",
    "from nilearn import plotting as nip\n",
    "from nilearn import image\n",
    "import pandas as pd"
   ]
  },
  {
   "cell_type": "markdown",
   "metadata": {},
   "source": [
    "Finds all the PyNets atlases. Want to remove file extension since this will be used to load the Nifti file and write to the JSON file with the same name."
   ]
  },
  {
   "cell_type": "code",
   "execution_count": 2,
   "metadata": {},
   "outputs": [
    {
     "data": {
      "text/plain": [
       "['DesikanKlein2012',\n",
       " 'AALTzourioMazoyer2002',\n",
       " 'AICHAreorderedJoliot2015',\n",
       " 'AAL2zourioMazoyer2002',\n",
       " 'AICHAJoliot2015',\n",
       " 'MICCAI2012MultiAtlasLabelingWorkshopandChallengeNeuromorphometrics']"
      ]
     },
     "execution_count": 2,
     "metadata": {},
     "output_type": "execute_result"
    }
   ],
   "source": [
    "mypath = str(Path().absolute())\n",
    "labelpath = join(mypath,'PyNets/Labels')\n",
    "label_files = [f for f in os.listdir(labelpath) if os.path.isfile(join(labelpath,f))]\n",
    "files = [f.split('.')[0] for f in label_files]\n",
    "files = [i for i in files if not i.startswith(\"__\")]\n",
    "files = [i for i in files if not i.startswith(\"aal_c\")]\n",
    "files = [i for i in files if not i.startswith(\"Random\")]\n",
    "files = [i for i in files if not i.startswith(\"Voxel\")]\n",
    "files = files[5:len(files)-1]\n",
    "files"
   ]
  },
  {
   "cell_type": "markdown",
   "metadata": {},
   "source": [
    "For each atlas, load in the metadata file currently in .txt format from PyNets. Then create a JSON file with this basic information: the labels for each region. Load in the Nifti file and calculate the size per region"
   ]
  },
  {
   "cell_type": "code",
   "execution_count": 104,
   "metadata": {},
   "outputs": [
    {
     "name": "stdout",
     "output_type": "stream",
     "text": [
      "AALTzourioMazoyer2002\n",
      "<class 'dict'>\n",
      "<class 'dict'>\n",
      "AICHAreorderedJoliot2015\n",
      "<class 'dict'>\n",
      "<class 'dict'>\n",
      "AAL2zourioMazoyer2002\n",
      "<class 'dict'>\n",
      "<class 'dict'>\n",
      "AICHAJoliot2015\n",
      "<class 'dict'>\n",
      "<class 'dict'>\n",
      "MICCAI2012MultiAtlasLabelingWorkshopandChallengeNeuromorphometrics\n",
      "<class 'dict'>\n",
      "<class 'dict'>\n"
     ]
    }
   ],
   "source": [
    "for f in files:\n",
    "    print(f)\n",
    "    try:\n",
    "        filename = str(f)+'.txt'\n",
    "        filename = join(labelpath,filename)\n",
    "        df = pd.read_csv(filename, sep=' ', header=None, usecols=[0,1])\n",
    "        df.columns = [\"Region\", \"Label\"]\n",
    "    except ValueError:\n",
    "        filename = str(f)+'.txt'\n",
    "        filename = join(labelpath,filename)\n",
    "        df = pd.read_csv(filename, sep='\\t', header=None, usecols=[0,1])\n",
    "        df.columns = [\"Region\", \"Label\"]\n",
    "    outname = f+'.json'\n",
    "    jsonpath = join(mypath,'PyNets/JSONs')\n",
    "    outname = join(jsonpath,outname)\n",
    "    createJSON(df,outname)\n",
    "    \n",
    "    niftipath = join(mypath,'PyNets/atlases/')\n",
    "    niftiname = f+'.nii.gz'\n",
    "    niftiname = join(niftipath,niftiname)\n",
    "    Size_JSON(outname, niftiname, outname)\n",
    "    "
   ]
  },
  {
   "cell_type": "markdown",
   "metadata": {},
   "source": [
    "Creates a JSON file. df is a pandas dataframe with columns \"Region\" (the region number) and \"Label\" (the corresponding label for the region). Puts the data into JSON format."
   ]
  },
  {
   "cell_type": "code",
   "execution_count": 94,
   "metadata": {},
   "outputs": [],
   "source": [
    "def createJSON(df, outname):\n",
    "    data = {}\n",
    "    data['0'] = {}\n",
    "    data['0']['label'] = 'empty'\n",
    "    print(type(data))\n",
    "    for row in range(1,len(df)+1):\n",
    "        data[str(row)]={}\n",
    "        data[str(row)]['label'] = df['Label'][row-1]\n",
    "    with open(outname, 'w') as outfile:  \n",
    "        json.dump(data, outfile, indent=4, sort_keys=True)"
   ]
  },
  {
   "cell_type": "markdown",
   "metadata": {},
   "source": [
    "Calculates the size of each region in an atlas. json_file is the name of the current JSON_file. nifti_file is name of the Nifti_file. outname is the name of the JSON_file where the Size data should be added. The default for outname is the json_file. "
   ]
  },
  {
   "cell_type": "code",
   "execution_count": 95,
   "metadata": {},
   "outputs": [],
   "source": [
    "def Size_JSON(json_file, nifti_file, outname=json_file):    \n",
    "    img = nib.load(nifti_file)\n",
    "    img_data = img.get_fdata()\n",
    "    img_flat = img_data.flatten()\n",
    "    img_flat.tolist()\n",
    "    img_flat = [int(i) for i in img_flat]\n",
    "    values = np.unique(img_flat)\n",
    "    counts = np.array(range(1, len(img_flat)+1))\n",
    "    counts = [int(i) for i in counts]\n",
    "    img_flatten = list(zip(img_flat, counts))\n",
    "    img_flatten = sorted(img_flatten, key = lambda l:l[0])\n",
    "\n",
    "    img_cell = [[] for i in range(len(values))]\n",
    "    start = 0\n",
    "    for i in range(0,len(values)):\n",
    "        img_list = [x[0] for x in img_flatten]\n",
    "        end = max(loc for loc, val in enumerate(img_list) if val == values[i])\n",
    "        for j in range(start,end):\n",
    "            img_cell[i].append(img_flatten[j][1])  \n",
    "        start = end+1\n",
    "    \n",
    "    with open(json_file) as f:\n",
    "        data = json.load(f)\n",
    "        print(type(data))\n",
    "    \n",
    "    for i in range(0,len(values)):\n",
    "        data[str(i)][\"size\"] = str(len(img_cell[i]))\n",
    "        #val = str(len(img_cell[i]))\n",
    "        #print(val)\n",
    "        #data[str(i)].append({\n",
    "        #    'size': str(len(img_cell[i]))\n",
    "        #})\n",
    "    \n",
    "    with open(outname, 'w') as f:\n",
    "        json.dump(data, f, indent=4, sort_keys=True)"
   ]
  },
  {
   "cell_type": "markdown",
   "metadata": {},
   "source": [
    "Calculates the center of mass for each region in a Nifti file. brain is the nibabel object after loading the Nifti file."
   ]
  },
  {
   "cell_type": "code",
   "execution_count": 1,
   "metadata": {},
   "outputs": [],
   "source": [
    "def get_centers(brain, outfile):\n",
    "    \"\"\"\n",
    "    Get coordinate centers given a nifti image loaded with nibabel\n",
    "    \n",
    "    Returns a dictionary of label: coordinate as an [x, y, z] array\n",
    "    \"\"\"\n",
    "    dat = brain.get_data()\n",
    "    dat = np.squeeze(dat)\n",
    "    labs = np.unique(dat)\n",
    "    labs = labs[labs != 0]\n",
    "    fd_dat = np.stack([np.asarray(dat == lab).astype('float64') for lab in labs], axis=3)\n",
    "    parcels = nib.Nifti1Image(dataobj=fd_dat, header=brain.header, affine=brain.affine)\n",
    "    regions_imgs = image.iter_img(parcels)\n",
    "    # compute the centers of mass for each ROI\n",
    "    coords_connectome = [nip.find_xyz_cut_coords(img) for img in regions_imgs]\n",
    "\n",
    "    \n",
    "    return dict(zip(labs, coords_connectome))"
   ]
  },
  {
   "cell_type": "markdown",
   "metadata": {},
   "source": [
    "For each JSON file, add the centers to each region"
   ]
  },
  {
   "cell_type": "code",
   "execution_count": 4,
   "metadata": {},
   "outputs": [],
   "source": [
    "def main():\n",
    "    for f in files:\n",
    "        print(f)\n",
    "        filename = f+'.json'\n",
    "        jsonpath = join(mypath, 'PyNets/JSONs')\n",
    "        outfile = join(jsonpath,filename)\n",
    "        niftipath = join(mypath,'PyNets/atlases/')\n",
    "        niftiname = f+'.nii.gz'\n",
    "        niftiname = join(niftipath,niftiname)\n",
    "        parcel_im = nib.load(niftiname)\n",
    "        get_centers(parcel_im,outfile)\n",
    "        parcel_centers = get_centers(parcel_im,outfile)\n",
    "        \n",
    "        with open(outfile) as js:\n",
    "            js_contents = json.load(js)\n",
    "            for (k, v) in js_contents.items():\n",
    "                try:\n",
    "                    js_contents[k][\"center\"] = parcel_centers[int(k)]\n",
    "                except KeyError:\n",
    "                    js_contents[k][\"center\"] = None\n",
    "                    with open(outfile, 'w') as jso:\n",
    "                        json.dump(js_contents, jso, indent=4)\n",
    "    return parcel_centers"
   ]
  },
  {
   "cell_type": "code",
   "execution_count": 5,
   "metadata": {
    "collapsed": true
   },
   "outputs": [
    {
     "name": "stdout",
     "output_type": "stream",
     "text": [
      "DesikanKlein2012\n",
      "here\n",
      "here2\n",
      "here\n",
      "here2\n",
      "AALTzourioMazoyer2002\n",
      "here\n",
      "here2\n",
      "here\n",
      "here2\n",
      "AICHAreorderedJoliot2015\n",
      "here\n",
      "here2\n",
      "here\n",
      "here2\n",
      "AAL2zourioMazoyer2002\n",
      "here\n",
      "here2\n",
      "here\n",
      "here2\n",
      "AICHAJoliot2015\n",
      "here\n",
      "here2\n",
      "here\n",
      "here2\n",
      "MICCAI2012MultiAtlasLabelingWorkshopandChallengeNeuromorphometrics\n",
      "here\n",
      "here2\n",
      "here\n",
      "here2\n"
     ]
    },
    {
     "data": {
      "text/plain": [
       "{4: [0.5618556701030997, -9.103092783505161, -4.762886597938149],\n",
       " 11: [0.2473763118440786, -44.59745127436281, -32.6671664167916],\n",
       " 23: [9.59302325581396, 12.688953488372078, -7.831395348837205],\n",
       " 30: [-9.408376963350776, 11.607329842931932, -8.340314136125656],\n",
       " 31: [22.098930481283418, -4.528074866310163, -20.68716577540107],\n",
       " 32: [-21.860000000000014, -5.740000000000009, -20.200000000000003],\n",
       " 35: [0.5877383015597957, -30.154029462738308, -31.853119584055456],\n",
       " 36: [13.870356037151709, 10.279411764705856, 9.697755417956657],\n",
       " 37: [-12.969047619047629, 9.289285714285711, 9.105952380952388],\n",
       " 38: [25.730695266272193, -62.37352071005917, -37.28498520710059],\n",
       " 39: [-25.068228404099557, -62.481405563689606, -37.35856515373352],\n",
       " 40: [18.836187332370542, -51.60748916855786, -35.73695069114916],\n",
       " 41: [-17.885105092966853, -51.99009700889248, -35.770210185933706],\n",
       " 44: [27.69475592073465, -15.422740454325762, 17.191692846785884],\n",
       " 45: [-26.808739936569893, -16.954263234935354, 17.204970724566962],\n",
       " 46: [1.0162499999999994, -24.172499999999985, 9.393750000000011],\n",
       " 47: [26.51509951956075, -20.717913520933422, -14.544955387783112],\n",
       " 48: [-25.424944812362043, -22.229580573951438, -14.236203090507722],\n",
       " 49: [33.804878048780495, -8.524390243902445, -23.85365853658537],\n",
       " 50: [-35.19230769230771, -31.32692307692308, -8.36538461538462],\n",
       " 51: [14.771739130434781, -14.8000945179584, 13.673913043478265],\n",
       " 52: [-13.247097625329815, -15.247361477572554, 13.589445910290237],\n",
       " 55: [20.127659574468083, -2.994680851063819, -2.0026595744680833],\n",
       " 56: [-19.312164579606446, -4.051878354203936, -1.9776386404293333],\n",
       " 57: [25.53055721989216, 2.4113241461953123, -0.7953864589574522],\n",
       " 58: [-24.898265895953756, 0.9199421965317924, -0.5236994219653184],\n",
       " 59: [11.952341137123753, -18.072240802675594, 5.835953177257522],\n",
       " 60: [-11.185891325071495, -18.97616777883698, 5.767874165872257],\n",
       " 61: [10.334146341463423, -15.549593495934957, -11.108130081300814],\n",
       " 62: [-9.34028484231942, -15.714903357070199, -11.043997965412004],\n",
       " 63: [30.0, -3.0, -9.0],\n",
       " 64: [-27.75, -3.0, -9.0],\n",
       " 69: [0.5454545454545325, 1.5, -19.36363636363636],\n",
       " 71: [0.4960815047022038, -53.653605015673975, -13.066614420062692],\n",
       " 72: [0.78857142857143, -70.368, -23.972571428571435],\n",
       " 73: [0.3421288014311301, -62.166815742397134, -39.0],\n",
       " 75: [-14.838926174496635, 3.93624161073825, -15.483221476510067],\n",
       " 76: [15.229927007299267, 5.025547445255484, -14.967153284671525],\n",
       " 100: [4.8370786516854025, 34.88932584269662, 8.474999999999994],\n",
       " 101: [-4.446621621621617, 35.74729729729731, 7.169594594594599],\n",
       " 102: [36.61417322834646, 11.929133858267704, -2.5942069741282268],\n",
       " 103: [-35.40511551155116, 10.561881188118804, -2.472772277227719],\n",
       " 104: [27.9320580474934, 51.1820580474934, -13.842348284960423],\n",
       " 105: [-26.83161004431315, 50.6698670605613, -13.429098966026594],\n",
       " 106: [47.99587650666103, -57.57824064284205, 35.89659547473039],\n",
       " 107: [-43.099514563106794, -64.01432038834952, 36.76601941747573],\n",
       " 108: [11.603305785123965, -76.40289256198346, 6.796487603305792],\n",
       " 109: [-9.113382899628249, -79.39684014869889, 5.032527881040892],\n",
       " 112: [49.46954314720812, -6.636209813874785, 11.303722504230123],\n",
       " 113: [-48.05437284234753, -9.268411967779045, 11.426927502876879],\n",
       " 114: [8.462223291626557, -77.85707410972088, 23.942252165543792],\n",
       " 115: [-4.892523364485982, -80.72626660108214, 21.75479586817511],\n",
       " 116: [23.121621621621628, 0.9752252252252305, -28.927927927927925],\n",
       " 117: [-22.73947750362845, -0.7053701015965146, -29.366473149492016],\n",
       " 118: [42.77543859649123, 18.328070175438597, 3.054385964912285],\n",
       " 119: [-40.491217798594846, 17.636416861826717, 2.752341920374704],\n",
       " 120: [14.370846394984326, 66.37241379310345, -1.5771159874608145],\n",
       " 121: [-13.241785714285712, 65.89285714285714, -1.7078571428571365],\n",
       " 122: [35.52013007122949, -33.917931248064406, -24.62573552183339],\n",
       " 123: [-34.70465412814791, -36.49298693018807, -23.61029646158751],\n",
       " 124: [5.099676724137936, 39.67564655172413, -23.96120689655173],\n",
       " 125: [-4.552857142857135, 39.23142857142858, -24.295714285714283],\n",
       " 128: [43.26830663615561, -78.38272311212815, -2.2871853546910756],\n",
       " 129: [-40.27355401964351, -81.79829028737723, -4.261549654419781],\n",
       " 132: [51.17539109506619, -32.38598074608905, -26.2572202166065],\n",
       " 133: [-49.92103658536587, -32.70670731707317, -26.985975609756096],\n",
       " 134: [13.749707943925245, -66.39997079439253, -6.336448598130843],\n",
       " 135: [-11.794687499999995, -66.77109375, -6.584062500000002],\n",
       " 136: [39.99416569428238, 43.76254375729289, -14.047841306884486],\n",
       " 137: [-38.45872641509436, 43.67158018867926, -14.168632075471706],\n",
       " 138: [4.93200582807188, -3.4800874210781956, 36.2688198154444],\n",
       " 139: [-3.836619718309862, -3.089436619718313, 35.980985915492965],\n",
       " 140: [3.3303797468354475, 41.65822784810126, -15.136708860759498],\n",
       " 141: [-4.664540816326536, 43.51339285714286, -13.591836734693878],\n",
       " 142: [38.14881847475833, 31.666111707841026, 31.17696025778733],\n",
       " 143: [-36.565920000000006, 30.103039999999993, 31.89088000000001],\n",
       " 144: [40.494031830238725, -76.65782493368701, 24.185676392572958],\n",
       " 145: [-37.605570191945816, -81.19533308242379, 21.172751223184036],\n",
       " 146: [15.800954519932617, 36.123806850084236, -22.13363279056709],\n",
       " 147: [-15.533092324805338, 34.96885428253614, -22.174638487208007],\n",
       " 148: [7.11057692307692, -38.918269230769226, 64.10576923076923],\n",
       " 149: [-6.623999999999995, -40.792, 63.388000000000005],\n",
       " 150: [6.723350253807112, -25.237309644670034, 56.345177664974614],\n",
       " 151: [-5.5104250200481175, -26.376904570970325, 56.10505212510023],\n",
       " 152: [5.758800337932968, 46.09617009293157, 21.577442973810207],\n",
       " 153: [-4.876751167444965, 46.35040026684459, 24.34272848565712],\n",
       " 154: [59.291249422277, -31.243490987521184, -8.784393775997529],\n",
       " 155: [-58.58446420215256, -34.069957884885355, -9.155591951333648],\n",
       " 156: [18.345102505694754, -98.29157175398633, 6.2858769931662835],\n",
       " 157: [-14.084144645340757, -99.89603616133519, 5.425243393602216],\n",
       " 160: [30.094736842105263, -77.43453947368421, -14.559868421052627],\n",
       " 161: [-27.334862385321117, -79.90642201834862, -15.177981651376143],\n",
       " 162: [51.64520547945206, 16.71575342465752, 16.39212328767124],\n",
       " 163: [-50.411432604093136, 14.532110091743135, 16.027875793930846],\n",
       " 164: [45.022651006711406, 31.43959731543623, -8.730704697986582],\n",
       " 165: [-43.094798657718115, 30.94630872483222, -8.680369127516784],\n",
       " 166: [6.768670309653913, -40.44717668488161, 26.203096539162118],\n",
       " 167: [-5.3311134789557855, -41.71550346297283, 25.953116675546084],\n",
       " 168: [8.449408284023662, -57.41005917159764, 38.52988165680472],\n",
       " 169: [-6.4064612326043715, -58.776143141153085, 37.83369781312126],\n",
       " 170: [22.932558139534876, -21.019534883720922, -23.761395348837205],\n",
       " 171: [-21.730478589420656, -22.884130982367765, -23.095717884130977],\n",
       " 172: [38.86, -9.736923076923091, 1.5338461538461559],\n",
       " 173: [-37.997892518440466, -11.846680716543716, 2.0263435194942048],\n",
       " 174: [48.78757828810021, -26.63987473903967, 21.68893528183716],\n",
       " 175: [-47.96530989824237, -31.16836262719704, 19.96207215541166],\n",
       " 176: [41.27144659377629, -22.950063078217, 51.63708999158956],\n",
       " 177: [-40.871749953900064, -25.696938963673233, 51.18200258159689],\n",
       " 178: [30.034328358208953, 23.832835820895525, -18.574626865671647],\n",
       " 179: [-30.119673617407074, 22.310970081595656, -18.85811423390752],\n",
       " 180: [48.105633802816904, -2.7599231754161337, -7.173495518565943],\n",
       " 181: [-47.37739032620922, -5.74859392575928, -5.71484814398201],\n",
       " 182: [40.339178356713425, -6.940380761523045, 48.31563126252506],\n",
       " 183: [-38.71227749126601, -9.138496090500752, 48.6091332556979],\n",
       " 184: [55.41488020176545, -25.221941992433813, 13.91614123581337],\n",
       " 185: [-53.969798657718115, -31.082214765100673, 13.22147651006712],\n",
       " 186: [5.325773195876295, 14.938144329896915, -17.873195876288655],\n",
       " 187: [-5.28586278586279, 14.472972972972968, -17.57276507276508],\n",
       " 190: [19.26931486880467, 31.176166180758003, 46.24963556851313],\n",
       " 191: [-17.479941434846268, 29.417130307467062, 46.7444363103953],\n",
       " 192: [6.004512247529007, 5.735711216158137, 53.366351525569414],\n",
       " 193: [-4.492534218166739, 4.850269597677311, 53.425134798838656],\n",
       " 194: [55.715526315789475, -33.79065789473684, 39.54513157894738],\n",
       " 195: [-54.74338957441449, -39.287459078317795, 37.89587005791992],\n",
       " 196: [24.378947368421052, -84.27807017543859, 30.171929824561403],\n",
       " 197: [-19.113004172461743, -86.4346314325452, 30.03337969401946],\n",
       " 198: [26.030303030303024, -54.93596340766152, 57.15208690680387],\n",
       " 199: [-24.529665071770324, -57.43464114832537, 55.64727272727272],\n",
       " 200: [59.52629047771721, -21.60836806668803, 0.9926258416159044],\n",
       " 201: [-58.84954407294833, -26.435663627152977, 1.7411347517730462],\n",
       " 202: [40.81618674867207, 12.75272574783338, -30.70953312831982],\n",
       " 203: [-40.498310335116884, 11.171641791044777, -30.526753027316246],\n",
       " 204: [50.5117773019272, 34.613490364025694, 4.234475374732327],\n",
       " 205: [-48.937123745819406, 33.61605351170567, 4.76889632107023],\n",
       " 206: [45.58281733746131, -17.572755417956657, 7.904024767801857],\n",
       " 207: [-44.025887573964496, -22.10281065088759, 8.960059171597635]}"
      ]
     },
     "execution_count": 5,
     "metadata": {},
     "output_type": "execute_result"
    }
   ],
   "source": [
    "main()"
   ]
  }
 ],
 "metadata": {
  "kernelspec": {
   "display_name": "Python 3",
   "language": "python",
   "name": "python3"
  },
  "language_info": {
   "codemirror_mode": {
    "name": "ipython",
    "version": 3
   },
   "file_extension": ".py",
   "mimetype": "text/x-python",
   "name": "python",
   "nbconvert_exporter": "python",
   "pygments_lexer": "ipython3",
   "version": "3.7.3"
  }
 },
 "nbformat": 4,
 "nbformat_minor": 2
}
